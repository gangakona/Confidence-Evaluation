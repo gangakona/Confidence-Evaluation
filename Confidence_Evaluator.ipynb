{
  "nbformat": 4,
  "nbformat_minor": 0,
  "metadata": {
    "colab": {
      "provenance": []
    },
    "kernelspec": {
      "name": "python3",
      "display_name": "Python 3"
    },
    "language_info": {
      "name": "python"
    }
  },
  "cells": [
    {
      "cell_type": "code",
      "source": [
        "from google.colab import drive\n",
        "\n",
        "# Mount Google Drive\n",
        "drive.mount('/content/drive')\n"
      ],
      "metadata": {
        "colab": {
          "base_uri": "https://localhost:8080/"
        },
        "id": "9uXIXp2eIF3z",
        "outputId": "8e451dd2-64d7-429b-deed-6a516af51457"
      },
      "execution_count": 1,
      "outputs": [
        {
          "output_type": "stream",
          "name": "stdout",
          "text": [
            "Mounted at /content/drive\n"
          ]
        }
      ]
    },
    {
      "cell_type": "code",
      "execution_count": 5,
      "metadata": {
        "colab": {
          "base_uri": "https://localhost:8080/"
        },
        "id": "d4lr_0FHATIm",
        "outputId": "59d37e2e-1f13-4b44-ae7d-48b0daea1490"
      },
      "outputs": [
        {
          "output_type": "stream",
          "name": "stdout",
          "text": [
            "Confidence: 69.05148623100615\n"
          ]
        }
      ],
      "source": [
        "import numpy as np\n",
        "import cv2\n",
        "import librosa\n",
        "import urllib.request\n",
        "\n",
        "# Download pre-trained haarcascade files\n",
        "urllib.request.urlretrieve(\"https://raw.githubusercontent.com/opencv/opencv/master/data/haarcascades/haarcascade_frontalface_default.xml\", \"haarcascade_frontalface_default.xml\")\n",
        "urllib.request.urlretrieve(\"https://raw.githubusercontent.com/opencv/opencv/master/data/haarcascades/haarcascade_fullbody.xml\", \"haarcascade_fullbody.xml\")\n",
        "\n",
        "# Function to extract pitch, intensity, and speech rate from audio\n",
        "def extract_audio_features(audio_path):\n",
        "    audio, sr = librosa.load(audio_path, sr=None)\n",
        "    pitch = librosa.yin(audio, fmin=librosa.note_to_hz('C2'), fmax=librosa.note_to_hz('C7'))\n",
        "    intensity = librosa.feature.rms(y=audio)\n",
        "    speech_rate = np.count_nonzero(librosa.effects.split(audio)) / (len(audio) / sr)\n",
        "    return pitch, intensity, speech_rate\n",
        "\n",
        "# Function to analyze body language using OpenCV\n",
        "def analyze_body_language(video_path):\n",
        "    # Load pre-trained body language detection model\n",
        "    body_cascade = cv2.CascadeClassifier(cv2.data.haarcascades + 'haarcascade_fullbody.xml')\n",
        "    # Load video\n",
        "    cap = cv2.VideoCapture(video_path)\n",
        "    # Initialize counters\n",
        "    total_frames = 0\n",
        "    body_detected_frames = 0\n",
        "    # Loop through video frames\n",
        "    while(cap.isOpened()):\n",
        "        ret, frame = cap.read()\n",
        "        if ret:\n",
        "            gray = cv2.cvtColor(frame, cv2.COLOR_BGR2GRAY)\n",
        "            # Detect bodies in the frame\n",
        "            bodies = body_cascade.detectMultiScale(gray, 1.1, 4)\n",
        "            if len(bodies) > 0:\n",
        "                body_detected_frames += 1\n",
        "            total_frames += 1\n",
        "        else:\n",
        "            break\n",
        "    # Prevent ZeroDivisionError\n",
        "    body_language_score = body_detected_frames / total_frames if total_frames != 0 else 0\n",
        "    cap.release()\n",
        "    return body_language_score\n",
        "\n",
        "# Define weights for each factor\n",
        "weight_pitch = 0.3\n",
        "weight_intensity = 0.3\n",
        "weight_speech_rate = 0.2\n",
        "weight_body_language = 0.2\n",
        "\n",
        "# Example usage\n",
        "audio_path = \"/content/drive/MyDrive/newaudio.wav\" # Update with your audio file path\n",
        "video_path = \"/content/drive/MyDrive/file.mp4\" # Update with your video file path\n",
        "\n",
        "pitch, intensity, speech_rate = extract_audio_features(audio_path)\n",
        "body_language_score = analyze_body_language(video_path)\n",
        "\n",
        "# Calculate overall score\n",
        "overall_score = (weight_pitch * np.mean(pitch) +\n",
        "                 weight_intensity * np.mean(intensity) +\n",
        "                 weight_speech_rate * speech_rate +\n",
        "                 weight_body_language * body_language_score)\n",
        "\n",
        "print(\"Confidence:\", overall_score)\n",
        "\n",
        "\n"
      ]
    },
    {
      "cell_type": "code",
      "source": [],
      "metadata": {
        "id": "-Z4ohE04H-6D"
      },
      "execution_count": null,
      "outputs": []
    }
  ]
}